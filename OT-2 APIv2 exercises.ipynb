{
 "cells": [
  {
   "cell_type": "markdown",
   "metadata": {},
   "source": [
    "# Notes\n",
    "\n",
    "1. For these exercise the aim is not to produce an executable script. Therefore, we will stick to a simulated environment.\n",
    "2. The suggested solutions were not coded in the most elegant way possible.\n",
    "3. Levels do not reflect the complexities of the task. Rather, it reflects the complexity of problems to be solved in Python.\n",
    "4. Since the outputs from the `print()` function were too long, the `print()` functions were commented out in the suggested solutions. Please remove the hashtag before executing the script in Spyder."
   ]
  },
  {
   "cell_type": "markdown",
   "metadata": {},
   "source": [
    "# Add water to lyophilized primers\n",
    "\n",
    "## Exercise\n",
    "\n",
    "Task description:\n",
    "Assuming we just received 20 lyophilized primers, and we wish to automate the process of rehydrating them. We already put them on an Opentrons tube rack and we knew the amount of water that should go into each tube.\n",
    "\n",
    "| Well | Volume (µL)|\n",
    "|------|--------|\n",
    "| A1   | 302    |\n",
    "| A2   | 256    |\n",
    "| A3   | 226    |\n",
    "| A4   | 310    |\n",
    "| A5   | 301    |\n",
    "| A6   | 268    |\n",
    "| B1   | 274    |\n",
    "| B2   | 295    |\n",
    "| B3   | 296    |\n",
    "| B4   | 156    |\n",
    "| B5   | 347    |\n",
    "| B6   | 332    |\n",
    "| C1   | 318    |\n",
    "| C2   | 267    |\n",
    "| C3   | 223    |\n",
    "| C4   | 289    |\n",
    "\n",
    "Let us write a script to do so.\n",
    "\n",
    "\n",
    "We start with:\n",
    "- Slot 1: Opentrons 1000 µL normal tips\n",
    "- Slot 2: Opentrons 6 Tube Rack with Falcon 50 mL Conical  \n",
    "  Well A1: 20 mL of water\n",
    "- Slot 3: Opentrons 24 Tube Rack with Generic 2 mL Screwcap\n",
    "\n",
    "Our robot is equipped with:  \n",
    "Right mount: P1000 single-channel pipette\n",
    "\n",
    "**Warning: do not use this script without modification for actual work. It will contaminate the water**\n",
    "\n",
    "## Assistance\n",
    "\n",
    "Please use the following dictionary:"
   ]
  },
  {
   "cell_type": "code",
   "execution_count": 1,
   "metadata": {},
   "outputs": [],
   "source": [
    "vol_info = {\n",
    "    'A1': 302,\n",
    "    'A2': 256,\n",
    "    'A3': 226,\n",
    "    'A4': 310,\n",
    "    'A5': 301,\n",
    "    'A6': 268,\n",
    "    'B1': 274,\n",
    "    'B2': 295,\n",
    "    'B3': 296,\n",
    "    'B4': 156,\n",
    "    'B5': 347,\n",
    "    'B6': 332,\n",
    "    'C1': 318,\n",
    "    'C2': 267,\n",
    "    'C3': 223,\n",
    "    'C4': 289\n",
    "}"
   ]
  },
  {
   "cell_type": "markdown",
   "metadata": {},
   "source": [
    "# Create an \"EDI\" pattern on a 96-well plate (Level 1)\n",
    "\n",
    "## Exercise\n",
    "\n",
    "Let us create the following pattern on a 96-well plate.\n",
    "![Exe EDI Level 1](images/Exe_EDI_Level1-01.png)\n",
    "\n",
    "Task description:  \n",
    "Generate a pattern of \"EDI\" on a 96-well flat bottom plate by pipetting dyes from the source well to the destination wells.\n",
    "  \n",
    "We start with:\n",
    "- Slot 1: Opentrons 96 Tip Rack 300 µL\n",
    "- Slot 2: Opentrons 6 Tube Rack with Falcon 50 mL Conical  \n",
    "    Well A1: 20 mL of dye\n",
    "- Slot 3: Corning 96 Well Plate 360 µL Flat\n",
    "\n",
    "Our robot is equipped with:  \n",
    "Right mount: P300 single-channel pipette"
   ]
  },
  {
   "cell_type": "markdown",
   "metadata": {},
   "source": [
    "## Assistance\n",
    "\n",
    "You can copy the following code which already contains the destination well names for the different letters."
   ]
  },
  {
   "cell_type": "code",
   "execution_count": 3,
   "metadata": {},
   "outputs": [],
   "source": [
    "letter_E = ['B1','B2','B3','C1','D1','D2','D3','E1','F1','F2','F3']\n",
    "letter_D = ['B5','B6','B7','C5','C8','D5','D8','E5','E8','F5','F6','F7'],\n",
    "letter_I = ['B10','B11','B12','C11','D11','E11','F10','F11','F12']"
   ]
  },
  {
   "cell_type": "markdown",
   "metadata": {},
   "source": [
    "# Create an \"EDI\" pattern on a 96-well plate (Level 2)\n",
    "\n",
    "## Exercise\n",
    "\n",
    "This is similar to above. However, for level 2, each letter will have a different color, i.e. you have to keep pipetting colored liquid from one source to different destination wells.\n",
    "  \n",
    "![Exe EDI Level 2](images/Exe_EDI_Level2-01.png)\n",
    "  \n",
    "We start with:\n",
    "- Slot 1: Opentrons 300 µL normal tips  \n",
    "- Slot 2: Opentrons 6 Tube Rack with Falcon 50 mL Conical  \n",
    "    Well A1: 20 mL of yellow dye, for constructing the letter \"E\"  \n",
    "    Well A2: 20 mL of blue dye, for constructing the letter \"D\"  \n",
    "    Well A3: 20 mL of red dye, for constructing the letter \"I\"  \n",
    "- Slot 3: Corning 96 Well Plate 360 µL Flat\n",
    "\n",
    "Our robot is equipped with:  \n",
    "Right mount: P300 single-channel pipette\n",
    "  \n",
    "## Hint\n",
    "\n",
    "To define a 1-to-1 relation between a source well and the destination well, a dictionary object will be useful."
   ]
  },
  {
   "cell_type": "markdown",
   "metadata": {},
   "source": [
    "# Create a checkered pattern on a 96-well plate (Level 1)\n",
    "\n",
    "\n",
    "## Exercise\n",
    "Let us perform the following task.  \n",
    "\n",
    "![Exe Checkered Level 1](images/Exe_checkered_Level1-01.png)\n",
    "  \n",
    "  \n",
    "Task description:  \n",
    "Generate a checkered pattern on a 96-well flat bottom plate by pipetting dyes from the source tubes to an intermediate plate, then from the intermediate plate to the destination plate.\n",
    "  \n",
    "We start with:\n",
    "- Slot 1: Opentrons 96 Tip Rack 1000 µL\n",
    "- Slot 4: Opentrons 96 Tip Rack 300 µL\n",
    "- Slot 2: Opentrons 6 Tube Rack with Falcon 50 mL Conical  \n",
    "    Well A1: 20 mL of yellow dye  \n",
    "    Well A2: 20 mL of blue dye  \n",
    "- Slot 3: USA Scientific 96 Deep Well Plate 2.4 mL\n",
    "- Slot 6: Corning 96 Well Plate 360 µL Flat\n",
    "\n",
    "Our robot is equipped with:  \n",
    "Left mount: P1000 single-channel pipette  \n",
    "Right mount: P300 8-channel pipette\n",
    "  \n",
    "## Hints\n",
    "\n",
    "1. When using an 8-channel pipette, it is helpful to use the `labware.columns_by_name()` function. It will help to read the Doc and test it out before attempting at the exercise.\n",
    "2. Recall that for 8-channel pipettes, a groups of wells can be used as an argument for the `pipete.transfer()` function."
   ]
  },
  {
   "cell_type": "markdown",
   "metadata": {},
   "source": [
    "# Create a checkered pattern on a 96-well plate (Level 2)\n",
    "\n",
    "\n",
    "## Exercise\n",
    "The outcome should be the same as Level 1. However, in this exercise we are doing this the slow and inefficient way - we will only use the P1000 single-channel pipette for all the pipetting actions.\n",
    "\n",
    "![Exe Checkered Level 2](images/Exe_checkered_Level2-01.png)\n",
    "\n",
    "Task description:  \n",
    "Generate a checkered pattern on a 96-well flat bottom plate by pipetting dyes from the source tubes to the destination plate.\n",
    "  \n",
    "We start with:\n",
    "- Slot 1: Opentrons 96 Tip Rack 1000 µL\n",
    "- Slot 2: Opentrons 6 Tube Rack with Falcon 50 mL Conical  \n",
    "    Well A1: 20 mL of yellow dye  \n",
    "    Well A2: 20 mL of blue dye  \n",
    "- Slot 3: Corning 96 Well Plate 360 µL Flat\n",
    "\n",
    "Our robot is equipped with:  \n",
    "Left mount: P1000 single-channel pipette  \n",
    "\n",
    "\n",
    "## Hints\n",
    "\n",
    "1. Since we are using a P1000 pipette, we can dispense a volume of 200 µL multiple times from the same pipette. It is helpful to read the Docs for the `pipete.distribute()` function.\n",
    "2. When using the `pipete.distribute()` function, we cannot use a for-loop to loop through the wells like what we previously did, we have to generate a list of well **objects**. Let's think about how to generate those well objects using for-loops.\n",
    "3. When dealing with large amount of wells, sometimes it is easier to use well indices. It is not as simple in this case however. In fact, using well names is simplier in this case. We can use a nested for loop to generate a list of well names.\n",
    "\n",
    "## Assistance\n",
    "\n",
    "Please check out the following function to generate a list of well names by inputting a list of rows and a list of columns. It will be helpful to include this in your script."
   ]
  },
  {
   "cell_type": "code",
   "execution_count": 7,
   "metadata": {
    "scrolled": false
   },
   "outputs": [
    {
     "data": {
      "text/plain": [
       "['A1',\n",
       " 'A3',\n",
       " 'A5',\n",
       " 'A7',\n",
       " 'A9',\n",
       " 'A11',\n",
       " 'C1',\n",
       " 'C3',\n",
       " 'C5',\n",
       " 'C7',\n",
       " 'C9',\n",
       " 'C11',\n",
       " 'E1',\n",
       " 'E3',\n",
       " 'E5',\n",
       " 'E7',\n",
       " 'E9',\n",
       " 'E11',\n",
       " 'G1',\n",
       " 'G3',\n",
       " 'G5',\n",
       " 'G7',\n",
       " 'G9',\n",
       " 'G11']"
      ]
     },
     "execution_count": 7,
     "metadata": {},
     "output_type": "execute_result"
    }
   ],
   "source": [
    "def generate_wells_by_col_and_row(row_list, col_list):\n",
    "    well_names = []\n",
    "    for row in row_list:\n",
    "        for col in col_list: \n",
    "            well_names.append(row + str(col))\n",
    "    return well_names\n",
    "\n",
    "generate_wells_by_col_and_row( ['A', 'C', 'E', 'G'], [1, 3, 5, 7, 9, 11] )"
   ]
  }
 ],
 "metadata": {
  "kernelspec": {
   "display_name": "Python 3",
   "language": "python",
   "name": "python3"
  },
  "language_info": {
   "codemirror_mode": {
    "name": "ipython",
    "version": 3
   },
   "file_extension": ".py",
   "mimetype": "text/x-python",
   "name": "python",
   "nbconvert_exporter": "python",
   "pygments_lexer": "ipython3",
   "version": "3.7.7"
  },
  "toc": {
   "base_numbering": 1,
   "nav_menu": {},
   "number_sections": true,
   "sideBar": true,
   "skip_h1_title": false,
   "title_cell": "Table of Contents",
   "title_sidebar": "Contents",
   "toc_cell": false,
   "toc_position": {},
   "toc_section_display": true,
   "toc_window_display": true
  },
  "varInspector": {
   "cols": {
    "lenName": 16,
    "lenType": 16,
    "lenVar": 40
   },
   "kernels_config": {
    "python": {
     "delete_cmd_postfix": "",
     "delete_cmd_prefix": "del ",
     "library": "var_list.py",
     "varRefreshCmd": "print(var_dic_list())"
    },
    "r": {
     "delete_cmd_postfix": ") ",
     "delete_cmd_prefix": "rm(",
     "library": "var_list.r",
     "varRefreshCmd": "cat(var_dic_list()) "
    }
   },
   "types_to_exclude": [
    "module",
    "function",
    "builtin_function_or_method",
    "instance",
    "_Feature"
   ],
   "window_display": false
  }
 },
 "nbformat": 4,
 "nbformat_minor": 4
}
